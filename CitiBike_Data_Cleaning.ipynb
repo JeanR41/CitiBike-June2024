{
 "cells": [
  {
   "cell_type": "code",
   "execution_count": 4,
   "metadata": {},
   "outputs": [],
   "source": [
    "# Import Dependencies\n",
    "import glob\n",
    "import pandas as pd\n",
    "import pprint"
   ]
  },
  {
   "cell_type": "markdown",
   "metadata": {},
   "source": [
    "## Step 1: Import CSV Files from the Directory"
   ]
  },
  {
   "cell_type": "code",
   "execution_count": 6,
   "metadata": {},
   "outputs": [
    {
     "name": "stdout",
     "output_type": "stream",
     "text": [
      "['./citibike_csv\\\\202406-citibike-tripdata_1.csv',\n",
      " './citibike_csv\\\\202406-citibike-tripdata_2.csv',\n",
      " './citibike_csv\\\\202406-citibike-tripdata_3.csv',\n",
      " './citibike_csv\\\\202406-citibike-tripdata_4.csv',\n",
      " './citibike_csv\\\\202406-citibike-tripdata_5.csv']\n"
     ]
    }
   ],
   "source": [
    "# Specify the folder path containing the csv files\n",
    "path = './citibike_csv'\n",
    "csv_files = glob.glob(path + \"/*.csv\")\n",
    "\n",
    "# Verify the list of files\n",
    "pprint.pprint(csv_files)"
   ]
  },
  {
   "cell_type": "markdown",
   "metadata": {},
   "source": [
    "## Step 2: Read Each CSV into a list of DataFrames"
   ]
  },
  {
   "cell_type": "code",
   "execution_count": 7,
   "metadata": {},
   "outputs": [
    {
     "name": "stderr",
     "output_type": "stream",
     "text": [
      "C:\\Users\\Jean\\AppData\\Local\\Temp\\ipykernel_19900\\327940360.py:2: DtypeWarning: Columns (7) have mixed types. Specify dtype option on import or set low_memory=False.\n",
      "  df_list = [pd.read_csv(file) for file in csv_files]\n",
      "C:\\Users\\Jean\\AppData\\Local\\Temp\\ipykernel_19900\\327940360.py:2: DtypeWarning: Columns (5,7) have mixed types. Specify dtype option on import or set low_memory=False.\n",
      "  df_list = [pd.read_csv(file) for file in csv_files]\n",
      "C:\\Users\\Jean\\AppData\\Local\\Temp\\ipykernel_19900\\327940360.py:2: DtypeWarning: Columns (5,7) have mixed types. Specify dtype option on import or set low_memory=False.\n",
      "  df_list = [pd.read_csv(file) for file in csv_files]\n",
      "C:\\Users\\Jean\\AppData\\Local\\Temp\\ipykernel_19900\\327940360.py:2: DtypeWarning: Columns (7) have mixed types. Specify dtype option on import or set low_memory=False.\n",
      "  df_list = [pd.read_csv(file) for file in csv_files]\n",
      "C:\\Users\\Jean\\AppData\\Local\\Temp\\ipykernel_19900\\327940360.py:2: DtypeWarning: Columns (5,7) have mixed types. Specify dtype option on import or set low_memory=False.\n",
      "  df_list = [pd.read_csv(file) for file in csv_files]\n"
     ]
    }
   ],
   "source": [
    "# Read each csv into a list of DataFrames\n",
    "df_list = [pd.read_csv(file) for file in csv_files]"
   ]
  },
  {
   "cell_type": "markdown",
   "metadata": {},
   "source": [
    "## Step 3: Concatenate All DataFrames Into One"
   ]
  },
  {
   "cell_type": "code",
   "execution_count": 9,
   "metadata": {},
   "outputs": [],
   "source": [
    "# Concatenate all DataFrames into one\n",
    "citibike_june2024_df = pd.concat(df_list, ignore_index=True)"
   ]
  },
  {
   "cell_type": "code",
   "execution_count": 10,
   "metadata": {},
   "outputs": [],
   "source": [
    "# Export to CSV\n",
    "citibike_june2024_df.to_csv('citibike_june2024.csv', index=False)"
   ]
  }
 ],
 "metadata": {
  "kernelspec": {
   "display_name": "base",
   "language": "python",
   "name": "python3"
  },
  "language_info": {
   "codemirror_mode": {
    "name": "ipython",
    "version": 3
   },
   "file_extension": ".py",
   "mimetype": "text/x-python",
   "name": "python",
   "nbconvert_exporter": "python",
   "pygments_lexer": "ipython3",
   "version": "3.12.4"
  }
 },
 "nbformat": 4,
 "nbformat_minor": 2
}
